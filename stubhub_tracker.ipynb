{
 "cells": [
  {
   "cell_type": "code",
   "execution_count": 12,
   "metadata": {},
   "outputs": [],
   "source": [
    "from selenium import webdriver\n",
    "from selenium.webdriver.common.by import By\n",
    "from selenium.webdriver.support.ui import Select\n",
    "from selenium.webdriver.support.ui import WebDriverWait\n",
    "from selenium.webdriver.support import expected_conditions as EC\n",
    "from selenium.webdriver.common.keys import Keys\n",
    "from selenium.webdriver.chrome.options import Options\n",
    "\n",
    "from googlesearch import search\n",
    "import pandas as pd\n",
    "import numpy as np\n",
    "from datetime import datetime\n",
    "import re\n",
    "import time\n",
    "\n",
    "test_ua = 'Mozilla/5.0 (Windows NT 4.0; WOW64) AppleWebKit/537.36 (KHTML, like Gecko) Chrome/37.0.2049.0 Safari/537.36'\n",
    "\n",
    "options = Options()\n",
    "\n",
    "# options.add_argument(\"--headless\")  # Remove this if you want to see the browser (Headless makes the chromedriver not have a GUI)\n",
    "options.add_argument(\"--window-size=1920,1080\")\n",
    "\n",
    "options.add_argument(f'--user-agent={test_ua}')\n",
    "\n",
    "options.add_argument('--no-sandbox')\n",
    "options.add_argument(\"--disable-extensions\")\n",
    "driver = webdriver.Chrome(options = options)  # or your browser of choice\n",
    "\n",
    "\n"
   ]
  },
  {
   "cell_type": "code",
   "execution_count": 13,
   "metadata": {},
   "outputs": [],
   "source": [
    "path = \"../Documents/Ticket Sales.xlsx\"\n",
    "sales = pd.read_excel(path, sheet_name =\"Sheet1\")\n"
   ]
  },
  {
   "cell_type": "code",
   "execution_count": 14,
   "metadata": {},
   "outputs": [],
   "source": [
    "driver.get(\"https://www.stubhub.ca\")\n",
    "\n",
    "driver.find_element(By.XPATH, \"//*[text() ='Sign In']\").click()\n",
    "WebDriverWait(driver, 10).until(EC.presence_of_element_located((By.CSS_SELECTOR, \"input[type='email']\")))\n",
    "driver.find_element(By.CSS_SELECTOR, \"input[type='email']\").send_keys(\"eric9090909090@hotmail.com\")\n",
    "driver.find_element(By.CSS_SELECTOR, \"input[type=password]\").send_keys(\"BlckPnk39!@!\"+ Keys.ENTER)\n",
    "time.sleep(5)\n",
    "try:\n",
    "    driver.find_element(By.CSS_SELECTOR, \"button[type='submit']\").click()\n",
    "except:\n",
    "    pass\n",
    "time.sleep(5)"
   ]
  },
  {
   "cell_type": "code",
   "execution_count": 15,
   "metadata": {},
   "outputs": [],
   "source": [
    "def stub_url(s):\n",
    "    if s in [None, np.nan]:\n",
    "        return \"lol\"\n",
    "    else:\n",
    "        s = s.replace(\" \", \"+\")\n",
    "        return \"https://www.stubhub.ca/secure/search?q=\"+s+ \" Toronto\"+\"&sellSearch=false&sortBy=\"\n",
    "\n"
   ]
  },
  {
   "cell_type": "code",
   "execution_count": 16,
   "metadata": {},
   "outputs": [],
   "source": [
    "path = \"../Documents/Ticket Sales.xlsx\"\n",
    "sales = pd.read_excel(path, sheet_name =\"Sheet1\")"
   ]
  },
  {
   "cell_type": "code",
   "execution_count": 17,
   "metadata": {},
   "outputs": [
    {
     "name": "stdout",
     "output_type": "stream",
     "text": [
      "JpegMafia C$61 C$67\n",
      "Porter Robinson no me price\n",
      "Porter Robinson C$63 0\n",
      "Kygo no me price\n",
      "Kygo C$109 0\n",
      "Conan Grey no me price\n",
      "Conan Grey C$13 0\n",
      "Usher no me price\n",
      "Usher C$37 0\n",
      "Vampire Weekeend no me price\n",
      "Vampire Weekeend C$14 0\n",
      "Korn no me price\n",
      "Korn C$106 0\n",
      "Boris Bredja no me price\n",
      "Boris Bredja C$112 0\n",
      "Kaytrana no me price\n",
      "Kaytrana C$27 0\n",
      "Twenty One Pilots no me price\n",
      "Twenty One Pilots C$112 0\n",
      "Meghan Trainor no me price\n",
      "Meghan Trainor C$68 0\n",
      "Shaq C$76 C$76\n",
      "Billie Eillish no me price\n",
      "Billie Eillish C$214 0\n",
      "Fred Agin no me price\n",
      "Fred Agin C$67 0\n",
      "Keshi no me price\n",
      "Keshi C$62 0\n",
      "Justin Timberlake no me price\n",
      "Justin Timberlake C$66 0\n",
      "Suicide Boys no me price\n",
      "Suicide Boys C$214 0\n",
      "Myles Smith no me price\n",
      "Myles Smith C$88 0\n",
      "Timmy Trumpet C$73 C$73\n",
      "Pitbull no me price\n",
      "Pitbull C$196 0\n",
      "Polo G no me price\n",
      "Polo G C$46 0\n",
      "Maddix no me price\n",
      "Maddix C$944 0\n",
      "Vini Vici no me price\n",
      "Vini Vici C$57 0\n",
      "Tinashe C$58 C$68\n",
      "Sullivan King C$75 C$84\n",
      "Virtual Riot no me price\n",
      "Virtual Riot C$58 0\n",
      "Kiss of Life no me price\n",
      "Kiss of Life C$225 0\n",
      "Oliver Tree C$57 C$57\n",
      "Layz C$67 C$67\n",
      "Kavion C$105 C$105\n",
      "Atliens C$51 C$54\n",
      "Markus Schulz C$76 C$76\n",
      "Ship Wrek C$57 C$57\n",
      "Umek C$67 C$67\n",
      "Danny Abila C$65 C$65\n",
      "Lavern C$58 C$60\n",
      "Allan Walker C$86 C$87\n",
      "Two Friends C$94 C$94\n",
      "Chelsea Cutter and Jeremy Zucker no me price\n",
      "Chelsea Cutter and Jeremy Zucker C$88 0\n"
     ]
    }
   ],
   "source": [
    "names = sales[\"Artist\"]\n",
    "\n",
    "remain = []\n",
    "prices = []\n",
    "my_prices = []\n",
    "dates  = []\n",
    "\n",
    "today = datetime.today()\n",
    "\n",
    "for i,r in sales.iterrows():\n",
    "\n",
    "    if  today < r[\"Date\"] and r[\"Artist\"] not in remain:\n",
    "        artist_search = stub_url(r[\"Artist\"])\n",
    "        driver.get(artist_search)\n",
    "        try:\n",
    "            WebDriverWait(driver, 10).until(EC.presence_of_element_located((By.XPATH, \"/html/body/div[1]/div[1]/div[4]/div[2]/div/div[1]/div/div[2]/ul/li[2]/a\")))\n",
    "            event_link = driver.find_element(By.XPATH, \"/html/body/div[1]/div[1]/div[4]/div[2]/div/div[1]/div/div[2]/ul/li[2]/a\").get_attribute(\"href\")+\"&betterValueTickets=false\"+ \"&estimatedFees=false\"\n",
    "            driver.get(event_link)\n",
    "        except:\n",
    "            print(r[\"Artist\"] + ' no event link')\n",
    "            continue\n",
    "        driver.find_element(By.XPATH, '//*[@id=\"modal-root\"]/div/div/div/div[2]/div[3]/button').click()\n",
    "        #filter\n",
    "        driver.find_element(By.CSS_SELECTOR, \"div.sc-xrltsx-2\").click()\n",
    "        time.sleep(1)\n",
    "        if (driver.find_element(By.CSS_SELECTOR, \"input[type=checkbox]\").get_attribute(\"value\") == \"true\"):\n",
    "            driver.find_element(By.CSS_SELECTOR, \"input[type=checkbox]\").click()\n",
    "        time.sleep(4)\n",
    "        me_price = 0\n",
    "        listings = driver.find_elements(By.CLASS_NAME, \"sc-57jg3s-0\")\n",
    "        for l in listings:\n",
    "            try:\n",
    "                l.find_element(By.CLASS_NAME, \"sc-kj9927-14\")\n",
    "                me_price = l.find_element(By.CLASS_NAME,  \"sc-1bp3ico-0\").get_attribute(\"data-price\")\n",
    "                break\n",
    "            except:\n",
    "                pass\n",
    "        if me_price == 0:\n",
    "            print(r[\"Artist\"] + ' no me price')\n",
    "        try:\n",
    "            price = driver.find_element(By.CLASS_NAME,  \"sc-1bp3ico-0\").get_attribute(\"data-price\")\n",
    "            remain.append(r[\"Artist\"])\n",
    "            prices.append(price)\n",
    "            my_prices.append(me_price)\n",
    "            dates.append(r[\"Date\"])\n",
    "            print(r[\"Artist\"], price, me_price)  \n",
    "        except:\n",
    "            print('no price')\n",
    "            pass\n",
    "\n",
    "       \n"
   ]
  },
  {
   "cell_type": "code",
   "execution_count": 18,
   "metadata": {},
   "outputs": [],
   "source": [
    "stubhub = pd.concat([pd.Series(remain), pd.Series(dates), pd.Series(prices), pd.Series(my_prices),],axis=1)\n",
    "stubhub.columns = [\"Artist\",\"Dates\", \"Stubhub\", \"Me\"]\n",
    "stubhub[\"Stubhub\"] = stubhub[\"Stubhub\"].str.extract('(\\\\d+)').astype(float)\n",
    "stubhub[\"Me\"] = stubhub[\"Me\"].str.extract('(\\\\d+)').astype(float)\n",
    "stubhub = stubhub.sort_values(by=\"Me\", ascending=False)\n",
    "with pd.ExcelWriter(path,  mode='a',  engine=\"openpyxl\", if_sheet_exists=\"replace\") as writer:\n",
    "    stubhub.to_excel(writer, sheet_name = \"stubhub\", header=True)"
   ]
  },
  {
   "cell_type": "code",
   "execution_count": 19,
   "metadata": {},
   "outputs": [
    {
     "data": {
      "text/html": [
       "<div>\n",
       "<style scoped>\n",
       "    .dataframe tbody tr th:only-of-type {\n",
       "        vertical-align: middle;\n",
       "    }\n",
       "\n",
       "    .dataframe tbody tr th {\n",
       "        vertical-align: top;\n",
       "    }\n",
       "\n",
       "    .dataframe thead th {\n",
       "        text-align: right;\n",
       "    }\n",
       "</style>\n",
       "<table border=\"1\" class=\"dataframe\">\n",
       "  <thead>\n",
       "    <tr style=\"text-align: right;\">\n",
       "      <th></th>\n",
       "      <th>Artist</th>\n",
       "      <th>Dates</th>\n",
       "      <th>Stubhub</th>\n",
       "      <th>Me</th>\n",
       "    </tr>\n",
       "  </thead>\n",
       "  <tbody>\n",
       "    <tr>\n",
       "      <th>36</th>\n",
       "      <td>Allan Walker</td>\n",
       "      <td>2025-02-07</td>\n",
       "      <td>86.0</td>\n",
       "      <td>87.0</td>\n",
       "    </tr>\n",
       "    <tr>\n",
       "      <th>24</th>\n",
       "      <td>Sullivan King</td>\n",
       "      <td>2024-11-15</td>\n",
       "      <td>75.0</td>\n",
       "      <td>84.0</td>\n",
       "    </tr>\n",
       "    <tr>\n",
       "      <th>23</th>\n",
       "      <td>Tinashe</td>\n",
       "      <td>2024-11-11</td>\n",
       "      <td>58.0</td>\n",
       "      <td>68.0</td>\n",
       "    </tr>\n",
       "    <tr>\n",
       "      <th>0</th>\n",
       "      <td>JpegMafia</td>\n",
       "      <td>2024-09-19</td>\n",
       "      <td>61.0</td>\n",
       "      <td>67.0</td>\n",
       "    </tr>\n",
       "    <tr>\n",
       "      <th>35</th>\n",
       "      <td>Lavern</td>\n",
       "      <td>2024-11-01</td>\n",
       "      <td>58.0</td>\n",
       "      <td>60.0</td>\n",
       "    </tr>\n",
       "    <tr>\n",
       "      <th>30</th>\n",
       "      <td>Atliens</td>\n",
       "      <td>2024-11-16</td>\n",
       "      <td>51.0</td>\n",
       "      <td>54.0</td>\n",
       "    </tr>\n",
       "  </tbody>\n",
       "</table>\n",
       "</div>"
      ],
      "text/plain": [
       "           Artist      Dates  Stubhub    Me\n",
       "36   Allan Walker 2025-02-07     86.0  87.0\n",
       "24  Sullivan King 2024-11-15     75.0  84.0\n",
       "23        Tinashe 2024-11-11     58.0  68.0\n",
       "0       JpegMafia 2024-09-19     61.0  67.0\n",
       "35         Lavern 2024-11-01     58.0  60.0\n",
       "30        Atliens 2024-11-16     51.0  54.0"
      ]
     },
     "execution_count": 19,
     "metadata": {},
     "output_type": "execute_result"
    }
   ],
   "source": [
    "stubhub[stubhub['Stubhub'] < stubhub['Me']]\n"
   ]
  },
  {
   "cell_type": "code",
   "execution_count": 20,
   "metadata": {},
   "outputs": [
    {
     "name": "stdout",
     "output_type": "stream",
     "text": [
      "C$61 C$67\n"
     ]
    }
   ],
   "source": [
    "artist_search = stub_url(\"Jpegmafia\")\n",
    "driver.get(artist_search)\n",
    "try:\n",
    "    WebDriverWait(driver, 10).until(EC.presence_of_element_located((By.XPATH, \"/html/body/div[1]/div[1]/div[4]/div[2]/div/div[1]/div/div[2]/ul/li[2]/a\")))\n",
    "    event_link = driver.find_element(By.XPATH, \"/html/body/div[1]/div[1]/div[4]/div[2]/div/div[1]/div/div[2]/ul/li[2]/a\").get_attribute(\"href\")+\"&betterValueTickets=false\"+ \"&estimatedFees=false\"\n",
    "    driver.get(event_link)\n",
    "except:\n",
    "    print(r[\"Artist\"] + ' no event link')\n",
    "    \n",
    "driver.find_element(By.XPATH, '//*[@id=\"modal-root\"]/div/div/div/div[2]/div[3]/button').click()\n",
    "#filter\n",
    "driver.find_element(By.CSS_SELECTOR, \"div.sc-xrltsx-2\").click()\n",
    "time.sleep(1)\n",
    "if (driver.find_element(By.CSS_SELECTOR, \"input[type=checkbox]\").get_attribute(\"value\") == \"true\"):\n",
    "    driver.find_element(By.CSS_SELECTOR, \"input[type=checkbox]\").click()\n",
    "time.sleep(4)\n",
    "me_price = 0\n",
    "listings = driver.find_elements(By.CLASS_NAME, \"sc-57jg3s-0\")\n",
    "for l in listings:\n",
    "    try:\n",
    "        l.find_element(By.CLASS_NAME, \"sc-kj9927-14\")\n",
    "        me_price = l.find_element(By.CLASS_NAME,  \"sc-hlalgf-0.sc-hlalgf-1\").text\n",
    "        break\n",
    "    except:\n",
    "        pass\n",
    "if me_price == 0:\n",
    "    print(' no me price')\n",
    "try:\n",
    "    price = driver.find_element(By.CLASS_NAME,  \"sc-hlalgf-0.sc-hlalgf-1\").text\n",
    "    # remain.append(r[\"Artist\"])\n",
    "    # prices.append(price)\n",
    "    # my_prices.append(me_price)\n",
    "    # dates.append(r[\"Date\"])\n",
    "    print(price, me_price)  \n",
    "except:\n",
    "    print('no price')\n",
    "    pass\n",
    "\n",
    "\n"
   ]
  },
  {
   "cell_type": "code",
   "execution_count": 24,
   "metadata": {},
   "outputs": [
    {
     "name": "stdout",
     "output_type": "stream",
     "text": [
      "C$61 C$67\n"
     ]
    }
   ],
   "source": [
    "me_price = 0\n",
    "listings = driver.find_elements(By.CLASS_NAME, \"sc-57jg3s-0\")\n",
    "for l in listings:\n",
    "    try:\n",
    "        l.find_element(By.CLASS_NAME, \"sc-kj9927-14\")\n",
    "        me_price = l.find_element(By.CLASS_NAME, \"sc-1bp3ico-0\").get_attribute(\"data-price\")\n",
    "        break\n",
    "    except:\n",
    "        pass\n",
    "if me_price == 0:\n",
    "    print(' no me price')\n",
    "try:\n",
    "    price = driver.find_element(By.CLASS_NAME, \"sc-1bp3ico-0\").get_attribute(\"data-price\")\n",
    "    print(price, me_price)  \n",
    "except:\n",
    "    print('no price')\n",
    "    pass"
   ]
  },
  {
   "cell_type": "code",
   "execution_count": 22,
   "metadata": {},
   "outputs": [
    {
     "name": "stdout",
     "output_type": "stream",
     "text": [
      "46\n"
     ]
    }
   ],
   "source": [
    "print(len(listings))"
   ]
  },
  {
   "cell_type": "code",
   "execution_count": null,
   "metadata": {},
   "outputs": [],
   "source": []
  },
  {
   "cell_type": "code",
   "execution_count": null,
   "metadata": {},
   "outputs": [],
   "source": []
  },
  {
   "cell_type": "code",
   "execution_count": null,
   "metadata": {},
   "outputs": [],
   "source": []
  },
  {
   "cell_type": "code",
   "execution_count": null,
   "metadata": {},
   "outputs": [],
   "source": []
  },
  {
   "cell_type": "code",
   "execution_count": null,
   "metadata": {},
   "outputs": [],
   "source": []
  },
  {
   "cell_type": "code",
   "execution_count": null,
   "metadata": {},
   "outputs": [],
   "source": []
  },
  {
   "cell_type": "code",
   "execution_count": null,
   "metadata": {},
   "outputs": [],
   "source": []
  },
  {
   "cell_type": "code",
   "execution_count": null,
   "metadata": {},
   "outputs": [],
   "source": []
  },
  {
   "cell_type": "code",
   "execution_count": null,
   "metadata": {},
   "outputs": [],
   "source": []
  },
  {
   "cell_type": "code",
   "execution_count": null,
   "metadata": {},
   "outputs": [],
   "source": []
  },
  {
   "cell_type": "code",
   "execution_count": null,
   "metadata": {},
   "outputs": [],
   "source": []
  },
  {
   "cell_type": "code",
   "execution_count": null,
   "metadata": {},
   "outputs": [],
   "source": []
  }
 ],
 "metadata": {
  "kernelspec": {
   "display_name": "Python 3",
   "language": "python",
   "name": "python3"
  },
  "language_info": {
   "codemirror_mode": {
    "name": "ipython",
    "version": 3
   },
   "file_extension": ".py",
   "mimetype": "text/x-python",
   "name": "python",
   "nbconvert_exporter": "python",
   "pygments_lexer": "ipython3",
   "version": "3.12.5"
  }
 },
 "nbformat": 4,
 "nbformat_minor": 2
}
