{
 "cells": [
  {
   "cell_type": "markdown",
   "metadata": {},
   "source": [
    "# Artist Data Base"
   ]
  },
  {
   "cell_type": "code",
   "execution_count": 6,
   "metadata": {},
   "outputs": [
    {
     "data": {
      "text/plain": [
       "194"
      ]
     },
     "execution_count": 6,
     "metadata": {},
     "output_type": "execute_result"
    }
   ],
   "source": [
    "import sqlite3\n",
    "import pandas as pd\n",
    "\n",
    "\n",
    "conn =  sqlite3.connect(\"artist.db\")\n",
    "\n",
    "c = conn.cursor\n",
    "\n",
    "path = \"../../Documents/Ticket Sales.xlsx\"\n",
    "\n",
    "socials = pd.read_excel(path, sheet_name=\"Socials\")\n",
    "events = pd.read_excel(path, sheet_name=\"Events\")\n",
    "embrace = pd.read_excel(path, sheet_name=\"Embrace\")\n",
    "ticketweb = pd.read_excel(path, sheet_name=\"TicketWeb\")\n",
    "\n",
    "\n",
    "# Read data from the 'events' dataframe and create a table in the SQLite database\n",
    "events.to_sql('EVENTS', conn, if_exists='replace', index=False, dtype={\n",
    "    'Artist': 'TEXT',\n",
    "    'Date': 'DATETIME',\n",
    "    'Venue': 'TEXT',\n",
    "    'Location': 'TEXT',\n",
    "    '# of comments': 'REAL',\n",
    "    'Presale': 'DATETIME',\n",
    "    'Sellout Date': 'TEXT',\n",
    "    'Sections': 'REAL',\n",
    "    'Min Cost': 'FLOAT',\n",
    "    'Max Resell': 'FLOAT',\n",
    "    'Notes': 'TEXT'\n",
    "})\n",
    "embrace.to_sql('EMBRACE', conn, if_exists='replace', index=False, dtype={\n",
    "    'Artist': 'TEXT',\n",
    "    'Venue': 'TEXT',\n",
    "    'start_date': 'DATETIME',\n",
    "    'end_date': 'DATETIME',\n",
    "    'Price': 'FLOAT',\n",
    "    'Interested': 'INTEGER',\n",
    "    'Went': 'INTEGER'\n",
    "})\n",
    "# Read data from the 'ticketweb' dataframe and create a table in the SQLite database\n",
    "ticketweb.to_sql('TICKETWEB', conn, if_exists='replace', index=False, dtype={\n",
    "    'Artist': 'TEXT',\n",
    "    'Date': 'DATETIME',\n",
    "    'Tier': 'TEXT',\n",
    "    'TicketWeb': 'FLOAT',\n",
    "    'Venue': 'TEXT'\n",
    "})\n",
    "# Read data from the 'socials' dataframe and create a table in the SQLite database\n",
    "socials.to_sql('SOCIALS', conn, if_exists='replace', index=False, dtype={\n",
    "    'Artist': 'TEXT',\n",
    "    'instagram_username': 'TEXT',\n",
    "    'instagram_followers': 'INTEGER',\n",
    "    'spotify_id': 'TEXT',\n",
    "    'spotify_genre': 'TEXT',\n",
    "    'spotify_followers': 'INTEGER',\n",
    "    'spotify_popularity': 'INTEGER',\n",
    "    'spotify_listeners': 'INTEGER',\n",
    "    'twitter_username': 'TEXT',\n",
    "    'twitter_followers': 'INTEGER',\n",
    "    'stubhub_url': 'TEXT',\n",
    "    'stubhub_favourites': 'INTEGER'\n",
    "})\n",
    "\n"
   ]
  },
  {
   "cell_type": "code",
   "execution_count": 11,
   "metadata": {},
   "outputs": [
    {
     "data": {
      "text/html": [
       "<div>\n",
       "<style scoped>\n",
       "    .dataframe tbody tr th:only-of-type {\n",
       "        vertical-align: middle;\n",
       "    }\n",
       "\n",
       "    .dataframe tbody tr th {\n",
       "        vertical-align: top;\n",
       "    }\n",
       "\n",
       "    .dataframe thead th {\n",
       "        text-align: right;\n",
       "    }\n",
       "</style>\n",
       "<table border=\"1\" class=\"dataframe\">\n",
       "  <thead>\n",
       "    <tr style=\"text-align: right;\">\n",
       "      <th></th>\n",
       "      <th>Artist</th>\n",
       "      <th>instagram_username</th>\n",
       "      <th>instagram_followers</th>\n",
       "      <th>spotify_id</th>\n",
       "      <th>spotify_genre</th>\n",
       "      <th>spotify_followers</th>\n",
       "      <th>spotify_popularity</th>\n",
       "      <th>spotify_listeners</th>\n",
       "      <th>twitter_username</th>\n",
       "      <th>twitter_followers</th>\n",
       "      <th>stubhub_url</th>\n",
       "      <th>stubhub_favourites</th>\n",
       "    </tr>\n",
       "  </thead>\n",
       "  <tbody>\n",
       "    <tr>\n",
       "      <th>46</th>\n",
       "      <td>Timmy Trumpet</td>\n",
       "      <td>timmytrumpet</td>\n",
       "      <td>2000000.0</td>\n",
       "      <td>0CbeG1224FS58EUx4tPevZ</td>\n",
       "      <td>australian dance</td>\n",
       "      <td>1200719</td>\n",
       "      <td>73</td>\n",
       "      <td>10800000</td>\n",
       "      <td>TimmyTrumpet</td>\n",
       "      <td>176200.0</td>\n",
       "      <td>/timmy-trumpet-tickets/performer/1522792</td>\n",
       "      <td>33.0</td>\n",
       "    </tr>\n",
       "  </tbody>\n",
       "</table>\n",
       "</div>"
      ],
      "text/plain": [
       "           Artist instagram_username  instagram_followers  \\\n",
       "46  Timmy Trumpet       timmytrumpet            2000000.0   \n",
       "\n",
       "                spotify_id     spotify_genre  spotify_followers  \\\n",
       "46  0CbeG1224FS58EUx4tPevZ  australian dance            1200719   \n",
       "\n",
       "    spotify_popularity  spotify_listeners twitter_username  twitter_followers  \\\n",
       "46                  73           10800000     TimmyTrumpet           176200.0   \n",
       "\n",
       "                                 stubhub_url  stubhub_favourites  \n",
       "46  /timmy-trumpet-tickets/performer/1522792                33.0  "
      ]
     },
     "execution_count": 11,
     "metadata": {},
     "output_type": "execute_result"
    }
   ],
   "source": [
    "\n",
    "socials.query(\"Artist == 'Timmy Trumpet' & instagram_followers > 1000000\")    "
   ]
  },
  {
   "cell_type": "code",
   "execution_count": 3,
   "metadata": {},
   "outputs": [],
   "source": [
    "conn.commit()"
   ]
  },
  {
   "cell_type": "code",
   "execution_count": 4,
   "metadata": {},
   "outputs": [],
   "source": [
    "conn.close()"
   ]
  },
  {
   "cell_type": "code",
   "execution_count": 13,
   "metadata": {},
   "outputs": [
    {
     "ename": "OperationalError",
     "evalue": "connection to server at \"localhost\" (::1), port 5432 failed: Connection refused (0x0000274D/10061)\n\tIs the server running on that host and accepting TCP/IP connections?\nconnection to server at \"localhost\" (127.0.0.1), port 5432 failed: Connection refused (0x0000274D/10061)\n\tIs the server running on that host and accepting TCP/IP connections?\n",
     "output_type": "error",
     "traceback": [
      "\u001b[1;31m---------------------------------------------------------------------------\u001b[0m",
      "\u001b[1;31mOperationalError\u001b[0m                          Traceback (most recent call last)",
      "Cell \u001b[1;32mIn[13], line 5\u001b[0m\n\u001b[0;32m      2\u001b[0m \u001b[38;5;28;01mfrom\u001b[39;00m \u001b[38;5;21;01mpsycopg2\u001b[39;00m \u001b[38;5;28;01mimport\u001b[39;00m sql\n\u001b[0;32m      4\u001b[0m \u001b[38;5;66;03m# Connect to PostgreSQL server\u001b[39;00m\n\u001b[1;32m----> 5\u001b[0m conn_pg \u001b[38;5;241m=\u001b[39m \u001b[43mpsycopg2\u001b[49m\u001b[38;5;241;43m.\u001b[39;49m\u001b[43mconnect\u001b[49m\u001b[43m(\u001b[49m\n\u001b[0;32m      6\u001b[0m \u001b[43m    \u001b[49m\u001b[43mdbname\u001b[49m\u001b[38;5;241;43m=\u001b[39;49m\u001b[38;5;124;43m\"\u001b[39;49m\u001b[38;5;124;43mpostgres\u001b[39;49m\u001b[38;5;124;43m\"\u001b[39;49m\u001b[43m,\u001b[49m\n\u001b[0;32m      7\u001b[0m \u001b[43m    \u001b[49m\u001b[43muser\u001b[49m\u001b[38;5;241;43m=\u001b[39;49m\u001b[38;5;124;43m\"\u001b[39;49m\u001b[38;5;124;43myour_username\u001b[39;49m\u001b[38;5;124;43m\"\u001b[39;49m\u001b[43m,\u001b[49m\n\u001b[0;32m      8\u001b[0m \u001b[43m    \u001b[49m\u001b[43mpassword\u001b[49m\u001b[38;5;241;43m=\u001b[39;49m\u001b[38;5;124;43m\"\u001b[39;49m\u001b[38;5;124;43myour_password\u001b[39;49m\u001b[38;5;124;43m\"\u001b[39;49m\u001b[43m,\u001b[49m\n\u001b[0;32m      9\u001b[0m \u001b[43m    \u001b[49m\u001b[43mhost\u001b[49m\u001b[38;5;241;43m=\u001b[39;49m\u001b[38;5;124;43m\"\u001b[39;49m\u001b[38;5;124;43mlocalhost\u001b[39;49m\u001b[38;5;124;43m\"\u001b[39;49m\u001b[43m,\u001b[49m\n\u001b[0;32m     10\u001b[0m \u001b[43m    \u001b[49m\u001b[43mport\u001b[49m\u001b[38;5;241;43m=\u001b[39;49m\u001b[38;5;124;43m\"\u001b[39;49m\u001b[38;5;124;43m5432\u001b[39;49m\u001b[38;5;124;43m\"\u001b[39;49m\n\u001b[0;32m     11\u001b[0m \u001b[43m)\u001b[49m\n\u001b[0;32m     12\u001b[0m conn_pg\u001b[38;5;241m.\u001b[39mautocommit \u001b[38;5;241m=\u001b[39m \u001b[38;5;28;01mTrue\u001b[39;00m\n\u001b[0;32m     13\u001b[0m cursor_pg \u001b[38;5;241m=\u001b[39m conn_pg\u001b[38;5;241m.\u001b[39mcursor()\n",
      "File \u001b[1;32mc:\\Python312\\Lib\\site-packages\\psycopg2\\__init__.py:122\u001b[0m, in \u001b[0;36mconnect\u001b[1;34m(dsn, connection_factory, cursor_factory, **kwargs)\u001b[0m\n\u001b[0;32m    119\u001b[0m     kwasync[\u001b[38;5;124m'\u001b[39m\u001b[38;5;124masync_\u001b[39m\u001b[38;5;124m'\u001b[39m] \u001b[38;5;241m=\u001b[39m kwargs\u001b[38;5;241m.\u001b[39mpop(\u001b[38;5;124m'\u001b[39m\u001b[38;5;124masync_\u001b[39m\u001b[38;5;124m'\u001b[39m)\n\u001b[0;32m    121\u001b[0m dsn \u001b[38;5;241m=\u001b[39m _ext\u001b[38;5;241m.\u001b[39mmake_dsn(dsn, \u001b[38;5;241m*\u001b[39m\u001b[38;5;241m*\u001b[39mkwargs)\n\u001b[1;32m--> 122\u001b[0m conn \u001b[38;5;241m=\u001b[39m \u001b[43m_connect\u001b[49m\u001b[43m(\u001b[49m\u001b[43mdsn\u001b[49m\u001b[43m,\u001b[49m\u001b[43m \u001b[49m\u001b[43mconnection_factory\u001b[49m\u001b[38;5;241;43m=\u001b[39;49m\u001b[43mconnection_factory\u001b[49m\u001b[43m,\u001b[49m\u001b[43m \u001b[49m\u001b[38;5;241;43m*\u001b[39;49m\u001b[38;5;241;43m*\u001b[39;49m\u001b[43mkwasync\u001b[49m\u001b[43m)\u001b[49m\n\u001b[0;32m    123\u001b[0m \u001b[38;5;28;01mif\u001b[39;00m cursor_factory \u001b[38;5;129;01mis\u001b[39;00m \u001b[38;5;129;01mnot\u001b[39;00m \u001b[38;5;28;01mNone\u001b[39;00m:\n\u001b[0;32m    124\u001b[0m     conn\u001b[38;5;241m.\u001b[39mcursor_factory \u001b[38;5;241m=\u001b[39m cursor_factory\n",
      "\u001b[1;31mOperationalError\u001b[0m: connection to server at \"localhost\" (::1), port 5432 failed: Connection refused (0x0000274D/10061)\n\tIs the server running on that host and accepting TCP/IP connections?\nconnection to server at \"localhost\" (127.0.0.1), port 5432 failed: Connection refused (0x0000274D/10061)\n\tIs the server running on that host and accepting TCP/IP connections?\n"
     ]
    }
   ],
   "source": [
    "import psycopg2\n",
    "from psycopg2 import sql\n",
    "\n",
    "# Connect to PostgreSQL server\n",
    "conn_pg = psycopg2.connect(\n",
    "    dbname=\"postgres\",\n",
    "    user=\"your_username\",\n",
    "    password=\"your_password\",\n",
    "    host=\"localhost\",\n",
    "    port=\"5432\"\n",
    ")\n",
    "conn_pg.autocommit = True\n",
    "cursor_pg = conn_pg.cursor()\n",
    "\n",
    "# Create a new database\n",
    "cursor_pg.execute(\"CREATE DATABASE artist_db\")\n",
    "\n",
    "# Close the initial connection and connect to the new database\n",
    "cursor_pg.close()\n",
    "conn_pg.close()\n",
    "\n",
    "conn_pg = psycopg2.connect(\n",
    "    dbname=\"artist_db\",\n",
    "    user=\"your_username\",\n",
    "    password=\"your_password\",\n",
    "    host=\"localhost\",\n",
    "    port=\"5432\"\n",
    ")\n",
    "cursor_pg = conn_pg.cursor()\n",
    "\n",
    "# Create tables and insert data\n",
    "def create_table_and_insert_data(table_name, dataframe, conn, cursor):\n",
    "    # Create table\n",
    "    create_table_query = sql.SQL(\n",
    "        \"CREATE TABLE {} ({});\"\n",
    "    ).format(\n",
    "        sql.Identifier(table_name),\n",
    "        sql.SQL(', ').join(\n",
    "            sql.SQL(\"{} {}\").format(\n",
    "                sql.Identifier(col),\n",
    "                sql.SQL(dtype)\n",
    "            ) for col, dtype in zip(dataframe.columns, dataframe.dtypes.replace({\n",
    "                'object': 'TEXT',\n",
    "                'int64': 'INTEGER',\n",
    "                'float64': 'FLOAT',\n",
    "                'datetime64[ns]': 'TIMESTAMP'\n",
    "            }).items())\n",
    "        )\n",
    "    )\n",
    "    cursor.execute(create_table_query)\n",
    "    conn.commit()\n",
    "\n",
    "    # Insert data\n",
    "    for i, row in dataframe.iterrows():\n",
    "        insert_query = sql.SQL(\n",
    "            \"INSERT INTO {} VALUES ({});\"\n",
    "        ).format(\n",
    "            sql.Identifier(table_name),\n",
    "            sql.SQL(', ').join(sql.Placeholder() * len(row))\n",
    "        )\n",
    "        cursor.execute(insert_query, tuple(row))\n",
    "    conn.commit()\n",
    "\n",
    "# Create tables and insert data for each dataframe\n",
    "create_table_and_insert_data('events', events, conn_pg, cursor_pg)\n",
    "create_table_and_insert_data('embrace', embrace, conn_pg, cursor_pg)\n",
    "create_table_and_insert_data('ticketweb', ticketweb, conn_pg, cursor_pg)\n",
    "create_table_and_insert_data('socials', socials, conn_pg, cursor_pg)\n",
    "\n",
    "# Close the connection\n",
    "cursor_pg.close()\n",
    "conn_pg.close()"
   ]
  }
 ],
 "metadata": {
  "kernelspec": {
   "display_name": "Python 3",
   "language": "python",
   "name": "python3"
  },
  "language_info": {
   "codemirror_mode": {
    "name": "ipython",
    "version": 3
   },
   "file_extension": ".py",
   "mimetype": "text/x-python",
   "name": "python",
   "nbconvert_exporter": "python",
   "pygments_lexer": "ipython3",
   "version": "3.12.5"
  }
 },
 "nbformat": 4,
 "nbformat_minor": 2
}
