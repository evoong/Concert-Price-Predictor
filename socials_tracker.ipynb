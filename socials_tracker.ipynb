{
 "cells": [
  {
   "cell_type": "code",
   "execution_count": 1,
   "metadata": {},
   "outputs": [],
   "source": [
    "import os\n",
    "from googlesearch import search\n",
    "import pandas as pd\n",
    "import numpy as np\n",
    "import re\n",
    "\n",
    "from selenium import webdriver\n",
    "from selenium.webdriver.common.by import By\n",
    "from selenium.webdriver.support.ui import WebDriverWait\n",
    "from selenium.webdriver.support import expected_conditions as EC\n",
    "from requests import get\n",
    "import json\n",
    "from bs4 import BeautifulSoup\n",
    "from selenium_recaptcha import Recaptcha_Solver\n",
    "from selenium.webdriver.chrome.options import Options\n",
    "\n",
    "import time\n",
    "\n"
   ]
  },
  {
   "cell_type": "code",
   "execution_count": 2,
   "metadata": {},
   "outputs": [],
   "source": [
    "path = \"../Documents/Ticket Sales.xlsx\"\n",
    "sales = pd.read_excel(path, sheet_name =\"Events\")\n"
   ]
  },
  {
   "cell_type": "code",
   "execution_count": 3,
   "metadata": {},
   "outputs": [],
   "source": [
    "\n",
    "\n",
    "\n",
    "options =  webdriver.ChromeOptions()\n",
    "options.add_argument(\"user-data-dir=C:\\\\Users\\\\eric9\\\\AppData\\\\Local\\\\Google\\\\Chrome\\\\User Data\\Default\")\n",
    "\n",
    "# service = webdriver.ChromeService(executable_path=r'C:\\Program Files\\Google\\Chrome\\Application\\chrome.exe')\n",
    "# service = webdriver.ChromeService(executable_path=r'C:\\Users\\eric9\\Downloads\\chromedriver_win32.zip\\chromedriver.exe')\n",
    "# service = webdriver.ChromeService()\n",
    "driver = webdriver.Chrome(options=options)"
   ]
  },
  {
   "cell_type": "code",
   "execution_count": 4,
   "metadata": {},
   "outputs": [],
   "source": [
    "def convert_string_to_number(s):\n",
    "    s = s.lower().strip()\n",
    "    # Handle comma-separated numbers\n",
    "    if ',' in s:\n",
    "        return int(s.replace(',', ''))\n",
    "    # Handle suffixes like K, M, B\n",
    "    elif 'k' in s:\n",
    "        return int(float(s.replace('k', '')) * 1000)\n",
    "    elif 'm' in s:\n",
    "        return int(float(s.replace('m', '')) * 1000000)\n",
    "    elif 'b' in s:\n",
    "        return int(float(s.replace('b', '')) * 1000000000)\n",
    "    else:\n",
    "        return int(s)\n",
    "    "
   ]
  },
  {
   "cell_type": "code",
   "execution_count": 5,
   "metadata": {},
   "outputs": [],
   "source": [
    "def solver():\n",
    "    try:\n",
    "        solver = Recaptcha_Solver(\n",
    "        driver=driver, # Your Web Driver\n",
    "        ffmpeg_path='', # Optional. If does not exists, it will automatically download.\n",
    "        log=1 # If you want to view the progress.\n",
    "        )\n",
    "        solver.solve_recaptcha()\n",
    "    #     driver.switch_to.default_content()\n",
    "\n",
    "    #     driver.find_element(By.XPATH, \".//iframe[@title='reCAPTCHA']\")\n",
    "    #     driver.switch_to.frame(driver.find_element(By.XPATH, \".//iframe[@title='reCAPTCHA']\"))\n",
    "    #     if len(driver.find_elements(By.XPATH, \"//*[@id='recaptcha-label']\")) > 0:\n",
    "    #         driver.find_element(By.XPATH, \"//*[@id='recaptcha-label']\").click()\n",
    "    #     if len(driver.find_elements(By.XPATH, \"//*[@id='recaptcha-anchor']\")) > 0 :\n",
    "    #         if driver.find_element(By.XPATH, \"//*[@id='recaptcha-anchor']\").get_attribute(\"aria-checked\") !=\"true\" :  \n",
    "    #             solver.request_audio_version()\n",
    "    #             solver.solve_audio_captcha()\n",
    "    except:\n",
    "        pass"
   ]
  },
  {
   "cell_type": "code",
   "execution_count": 6,
   "metadata": {},
   "outputs": [],
   "source": [
    "# Perform a Google search using Selenium\n",
    "def perform_google_search(query):\n",
    "    driver.get(f\"https://www.google.com/search?q={query}\")\n",
    "    try:\n",
    "        driver.find_element(By.XPATH, \".//iframe[@title='reCAPTCHA']\")\n",
    "        solver()\n",
    "        time.sleep(2)\n",
    "    except:\n",
    "        pass\n",
    "\n",
    "    soup = BeautifulSoup(driver.page_source, 'html.parser')\n",
    "    first_result = soup.find('div', class_='g')\n",
    "    if first_result:\n",
    "        first_link = first_result.find('a')['href']\n",
    "        return first_link\n",
    "    else:\n",
    "        return list(search(query, advanced= True, num_results = 1))[0].url\n",
    "\n",
    "\n"
   ]
  },
  {
   "cell_type": "code",
   "execution_count": 7,
   "metadata": {},
   "outputs": [
    {
     "data": {
      "text/plain": [
       "'https://www.instagram.com/illenium/?hl=en'"
      ]
     },
     "execution_count": 7,
     "metadata": {},
     "output_type": "execute_result"
    }
   ],
   "source": [
    "perform_google_search(\"instagram profile \" + \"illenium\")"
   ]
  },
  {
   "cell_type": "markdown",
   "metadata": {},
   "source": [
    "## Instagram"
   ]
  },
  {
   "cell_type": "code",
   "execution_count": 8,
   "metadata": {},
   "outputs": [],
   "source": [
    "\n",
    "\n",
    "def get_insta_followers(s,username = \"\"):\n",
    "    if username == \"\":  \n",
    "        url = perform_google_search((\"instagram profile \" + s))\n",
    "        username = re.search(r'instagram\\.com/([^/?]+)', url).group(1)\n",
    "    else:\n",
    "        url = \"https://www.instagram.com/\" + username\n",
    "    page = get(url, timeout=5)\n",
    "    soup = BeautifulSoup(page.content, 'html.parser')\n",
    "    data = soup.find_all('meta', attrs={'property': 'og:description'})\n",
    "    if len(data) == 0:\n",
    "        driver.get(url)\n",
    "        soup = BeautifulSoup(driver.page_source, 'html.parser')\n",
    "        data = soup.find_all('meta', attrs={'property': 'og:description'})\n",
    "\n",
    "    follower_count = data[0].get('content').split()[0]    \n",
    "    return convert_string_to_number(follower_count)"
   ]
  },
  {
   "cell_type": "code",
   "execution_count": 9,
   "metadata": {},
   "outputs": [
    {
     "data": {
      "text/plain": [
       "859000"
      ]
     },
     "execution_count": 9,
     "metadata": {},
     "output_type": "execute_result"
    }
   ],
   "source": [
    "get_insta_followers(\"illenium\",)"
   ]
  },
  {
   "cell_type": "markdown",
   "metadata": {},
   "source": [
    "## Twitter"
   ]
  },
  {
   "cell_type": "code",
   "execution_count": 10,
   "metadata": {},
   "outputs": [],
   "source": [
    "\n",
    "\n",
    "def get_twitter_followers(s,username = \"\"):\n",
    "    if username == \"\":\n",
    "        url = perform_google_search(\"twitter profile \" + s)\n",
    "        username = re.search(r'twitter\\.com/([^/?]+)', url).group(1)\n",
    "    else:\n",
    "        url = \"https://www.x.com/\" + username\n",
    "    driver.get(url)\n",
    "    soup = BeautifulSoup(driver.page_source, 'html.parser')\n",
    "    # Wait for the follower element to be present\n",
    "    followers_xpath = '//a[contains(@href, \"/verified_followers\") and @dir=\"ltr\" and @role=\"link\"]'\n",
    "    WebDriverWait(driver, 10).until(EC.presence_of_element_located((By.XPATH, followers_xpath)))\n",
    "    \n",
    "\n",
    "    follower_element = driver.find_element(By.XPATH, followers_xpath)\n",
    "    follower_element_text = follower_element.text.replace(' Followers', '')\n",
    "    follower_count = convert_string_to_number(follower_element_text)\n",
    "    return follower_count\n"
   ]
  },
  {
   "cell_type": "markdown",
   "metadata": {},
   "source": [
    "## Spotify"
   ]
  },
  {
   "cell_type": "code",
   "execution_count": 4,
   "metadata": {},
   "outputs": [
    {
     "name": "stdout",
     "output_type": "stream",
     "text": [
      "Access token: BQDTO0fJptJQYbwj6TjHB77pqeUfkxEo5Fa-gPR62CUi5acwgponlP1bf2ehMvab920BhsV_EdSyYqmskaeuL3Iji0dIFhMlvk-efbdIAUNifdwKeYE\n"
     ]
    }
   ],
   "source": [
    "from http import client\n",
    "import requests\n",
    "import json\n",
    "\n",
    "\n",
    "with open(\"../spotify_credentials.json\", \"r\") as f:\n",
    "    credentials = json.load(f)\n",
    "\n",
    "client_id = credentials[\"client_id\"]\n",
    "client_secret = credentials[\"client_secret\"]\n",
    "auth_url = credentials[\"auth_url\"]\n",
    "response = requests.post(\n",
    "    auth_url,\n",
    "    headers={\"Content-Type\": \"application/x-www-form-urlencoded\"},\n",
    "    data={\n",
    "        \"grant_type\": \"client_credentials\",\n",
    "        \"client_id\": client_id,\n",
    "        \"client_secret\": client_secret\n",
    "    }\n",
    ")\n",
    "\n",
    "# Check if the request was successful\n",
    "if response.status_code == 200:\n",
    "    token_info = response.json()\n",
    "    access_token = token_info['access_token']\n",
    "    print(\"Access token:\", access_token)\n",
    "else:\n",
    "    print(\"Failed to retrieve access token:\", response.status_code, response.text)"
   ]
  },
  {
   "cell_type": "code",
   "execution_count": 17,
   "metadata": {},
   "outputs": [
    {
     "data": {
      "text/plain": [
       "{'genre': 'edm', 'followers': 1538144, 'popularity': 72, 'listens': 8300000}"
      ]
     },
     "execution_count": 17,
     "metadata": {},
     "output_type": "execute_result"
    }
   ],
   "source": [
    "headers = {\n",
    "    \"Authorization\": f\"Bearer {access_token}\"\n",
    "}\n",
    "\n",
    "from math import nan\n",
    "import requests\n",
    "def get_spot_stats(artist):\n",
    "    search_url = f\"https://api.spotify.com/v1/search?q=artist:{artist}&type=artist&limit=1\"\n",
    "    response = requests.get(search_url, headers=headers)\n",
    "    if response.status_code == 200:\n",
    "        search_results = response.json()\n",
    "        # print(json.dumps(search_results, indent=4))\n",
    "        if len(search_results['artists']['items']) == 0:\n",
    "            # print(\"No search results found\")\n",
    "            return  {\n",
    "            'genre': pd.NA,\n",
    "            'followers': 0,\n",
    "            'popularity': 0,\n",
    "            'listens': 0\n",
    "        }\n",
    "        genre = search_results['artists']['items'][0]['genres'][0]\n",
    "        followers  = search_results['artists']['items'][0]['followers']['total']\n",
    "        popularity = search_results['artists']['items'][0]['popularity']\n",
    "        url = search_results['artists']['items'][0]['external_urls']['spotify']\n",
    "        response = requests.get(url,)\n",
    "        soup = BeautifulSoup(response.content, 'html.parser')\n",
    "        meta_tag = soup.find('meta', attrs={'property': 'og:description'})\n",
    "        if meta_tag:\n",
    "            content = meta_tag.get('content')\n",
    "            match = re.search(r'(\\d+(\\.\\d+)?[MK]?) monthly listeners', content)\n",
    "            if match:\n",
    "                listens = convert_string_to_number(match.group(1))\n",
    "            else :\n",
    "                listens = 0\n",
    "        return {\n",
    "            'genre': genre,\n",
    "            'followers': followers,\n",
    "            'popularity': popularity,\n",
    "            'listens': listens\n",
    "        }\n",
    "        return  \n",
    "    else:\n",
    "        print(\"Failed to retrieve search results:\", response.status_code, response.text)\n",
    "        return {\n",
    "            'genre': pd.NA,\n",
    "            'followers': 0,\n",
    "            'popularity': 0,\n",
    "            'listens': 0\n",
    "        }\n",
    "    \n",
    "get_spot_stats(\"illenium\")"
   ]
  },
  {
   "cell_type": "code",
   "execution_count": 23,
   "metadata": {},
   "outputs": [],
   "source": [
    "# import requests\n",
    "\n",
    "# search_query = \"genre:edm\"\n",
    "# search_type = \"artist\"\n",
    "# search_url = f\"https://api.spotify.com/v1/search?q={search_query}&type={search_type}\"\n",
    "\n",
    "# response = requests.get(search_url, headers=headers)\n",
    "\n",
    "# if response.status_code == 200:\n",
    "#     search_results = response.json()\n",
    "#     # print(json.dumps(search_results, indent=4))\n",
    "# else:\n",
    "#     print(\"Failed to retrieve search results:\", response.status_code, response.text)\n",
    "# # print(search_results['artists']['items'][0]['followers']['total'])\n",
    "# # print(search_results['artists']['items'][0]['popularity'])\n",
    "# # Extract relevant information from search results\n",
    "# artists = search_results['artists']['items']\n",
    "# data = []\n",
    "# for artist in artists:\n",
    "#     data.append({\n",
    "#         'name': artist['name'],\n",
    "#         'followers': artist['followers']['total'],\n",
    "#         'popularity': artist['popularity'],\n",
    "#         'genres': ', '.join(artist['genres']),\n",
    "#         'spotify_url': artist['external_urls']['spotify']\n",
    "#     })\n",
    "\n",
    "\n",
    "# # Create a DataFrame from the extracted data\n",
    "# df_artists = pd.DataFrame(data)\n",
    "# df_artists = df_artists.sort_values(by='popularity', ascending=False)\n",
    "# print(df_artists)"
   ]
  },
  {
   "cell_type": "code",
   "execution_count": 13,
   "metadata": {},
   "outputs": [],
   "source": [
    "from torch import res\n",
    "\n",
    "\n",
    "def get_stubhub_favourites(artist):\n",
    "    try:\n",
    "        pageSource = requests.get(\"https://www.stubhub.ca/secure/search?q=\" + artist).content\n",
    "    except:\n",
    "        pageSource = driver.get(\"https://www.stubhub.ca/secure/search?q=\" + artist).page_source\n",
    "    soup = BeautifulSoup(pageSource, 'html.parser')\n",
    "    script_tag = soup.find('script', {'id': 'index-data', 'type': 'application/json'})\n",
    "\n",
    "    json_data = json.loads(script_tag.string)\n",
    "    return json_data['topSearchResults'][0]['aggregateFavorites']\n",
    "\n",
    "    \n"
   ]
  },
  {
   "cell_type": "code",
   "execution_count": null,
   "metadata": {},
   "outputs": [
    {
     "name": "stdout",
     "output_type": "stream",
     "text": [
      "$uicide Boy$\n",
      "Recaptcha Solvedbe...\n"
     ]
    }
   ],
   "source": [
    "# Initialize a list to store the results\n",
    "results = []\n",
    "\n",
    "# Iterate through each artist in the sales DataFrame\n",
    "for artist in sales['Artist'].unique():\n",
    "    print(artist)\n",
    "    try:\n",
    "        # Get Instagram followers\n",
    "        insta_followers_count = get_insta_followers(artist)\n",
    "\n",
    "        # Get Twitter followers\n",
    "        twitter_followers_count = get_twitter_followers(artist)\n",
    "\n",
    "        # Get Spotify stats\n",
    "        spotify_stats = get_spot_stats(artist)\n",
    "        spotify_followers_count = spotify_stats[\"followers\"]\n",
    "        spotify_popularity_count = spotify_stats[\"popularity\"]\n",
    "        spotify_monthly_listeners_count = spotify_stats[\"listens\"]\n",
    "        genre = spotify_stats[\"genre\"]\n",
    "\n",
    "        # Get Stubhub favourites\n",
    "        stubhub_favourites_count = get_stubhub_favourites(artist)\n",
    "\n",
    "        # Store the results in a dictionary\n",
    "        result = {\n",
    "            'Artist': artist,\n",
    "            'Instagram Followers': insta_followers_count,\n",
    "            'Twitter Followers': twitter_followers_count,\n",
    "            'Spotify Followers': spotify_followers_count,\n",
    "            'Spotify Popularity': spotify_popularity_count,\n",
    "            'Spotify Monthly Listeners': spotify_monthly_listeners_count,\n",
    "            'Genre': genre,\n",
    "            'Stubhub Favourites': stubhub_favourites_count\n",
    "        }\n",
    "        results.append(result)\n",
    "\n",
    "        print(f\"Instagram: {insta_followers_count}, Twitter: {twitter_followers_count}, Genre: {genre}, Spotify Followers: {spotify_followers_count}, Popularity: {spotify_popularity_count}, Monthly Listeners: {spotify_monthly_listeners_count}, Stubhub: {stubhub_favourites_count}\")\n",
    "\n",
    "    except Exception as e:\n",
    "        print(f\"An error occurred for artist {artist}: {e}\")\n",
    "\n"
   ]
  },
  {
   "cell_type": "code",
   "execution_count": 26,
   "metadata": {},
   "outputs": [],
   "source": [
    "results_df = pd.DataFrame(results)\n"
   ]
  },
  {
   "cell_type": "code",
   "execution_count": 18,
   "metadata": {},
   "outputs": [
    {
     "name": "stdout",
     "output_type": "stream",
     "text": [
      "Artemas\n",
      "An error occurred for artist Artemas: list index out of range\n",
      "Chelsea Cutler and Jeremy Zucker\n",
      "Instagram: 390000, Twitter: 110400, Genre: <NA>, Spotify Followers: 0, Popularity: 0, Monthly Listeners: 0, Stubhub: 35\n",
      "Danny Avila\n",
      "Recaptcha Solvedbe...\n",
      "An error occurred for artist Danny Avila: list index out of range\n",
      "Day 1 DPRTMNT AP\n",
      "An error occurred for artist Day 1 DPRTMNT AP: 'NoneType' object has no attribute 'group'\n",
      "Day 1 Rebel AP\n",
      "Instagram: 85000, Twitter: 2696, Genre: <NA>, Spotify Followers: 0, Popularity: 0, Monthly Listeners: 0, Stubhub: 0\n",
      "Day 3 Rebel AP\n",
      "Instagram: 85000, Twitter: 2696, Genre: <NA>, Spotify Followers: 0, Popularity: 0, Monthly Listeners: 0, Stubhub: 0\n",
      "Electric Island Afterparty Coda\n",
      "Instagram: 156, Twitter: 2226, Genre: <NA>, Spotify Followers: 0, Popularity: 0, Monthly Listeners: 0, Stubhub: 0\n",
      "Emorfik\n",
      "An error occurred for artist Emorfik: list index out of range\n",
      "Frank Walker\n",
      "An error occurred for artist Frank Walker: list index out of range\n",
      "IsoKnock\n",
      "An error occurred for artist IsoKnock: list index out of range\n",
      "John Sumit\n",
      "An error occurred for artist John Sumit: list index out of range\n",
      "Korn\n",
      "An error occurred for artist Korn: list index out of range\n",
      "LSR City\n",
      "An error occurred for artist LSR City: list index out of range\n",
      "MK\n",
      "Recaptcha Solvedbe...\n",
      "Instagram: 297000, Twitter: 1971, Genre: alternative pop rock, Spotify Followers: 131070, Popularity: 44, Monthly Listeners: 303400, Stubhub: 67\n",
      "Party NextDoor\n",
      "Instagram: 5000000, Twitter: 1500000, Genre: <NA>, Spotify Followers: 0, Popularity: 0, Monthly Listeners: 0, Stubhub: 4646\n",
      "Sabai\n",
      "An error occurred for artist Sabai: list index out of range\n",
      "Shaq\n",
      "An error occurred for artist Shaq: list index out of range\n",
      "Sofi Tukker\n",
      "Instagram: 683000, Twitter: 31300, Genre: edm, Spotify Followers: 835853, Popularity: 69, Monthly Listeners: 6600000, Stubhub: 146\n",
      "Soujorn\n",
      "Instagram: 4490, Twitter: 1660, Genre: <NA>, Spotify Followers: 0, Popularity: 0, Monthly Listeners: 0, Stubhub: 0\n",
      "Steve Aoki\n",
      "Instagram: 12000000, Twitter: 7900000, Genre: edm, Spotify Followers: 3783653, Popularity: 73, Monthly Listeners: 14800000, Stubhub: 202\n",
      "Suki Water House\n",
      "Instagram: 4000000, Twitter: 165100, Genre: <NA>, Spotify Followers: 0, Popularity: 0, Monthly Listeners: 0, Stubhub: 133\n",
      "Sullivan King\n",
      "Instagram: 537000, Twitter: 132000, Genre: dubstep, Spotify Followers: 241750, Popularity: 57, Monthly Listeners: 861700, Stubhub: 40\n",
      "Taylor Switft\n",
      "Recaptcha Solvedbe...\n",
      "Instagram: 284000000, Twitter: 94900000, Genre: <NA>, Spotify Followers: 0, Popularity: 0, Monthly Listeners: 0, Stubhub: 36334\n",
      "Testpilot x Jauz\n",
      "Instagram: 615000, Twitter: 227600, Genre: <NA>, Spotify Followers: 0, Popularity: 0, Monthly Listeners: 0, Stubhub: 2\n",
      "Tinflicker\n",
      "Instagram: 122000, Twitter: 13100, Genre: <NA>, Spotify Followers: 0, Popularity: 0, Monthly Listeners: 0, Stubhub: 35\n",
      "Two Friends\n",
      "An error occurred for artist Two Friends: list index out of range\n",
      "Under Oath\n",
      "An error occurred for artist Under Oath: list index out of range\n",
      "veld 1 day 2023\n",
      "Instagram: 2877, Twitter: 27200, Genre: <NA>, Spotify Followers: 0, Popularity: 0, Monthly Listeners: 0, Stubhub: 0\n",
      "veld 3 day 2023\n",
      "Instagram: 3271, Twitter: 27200, Genre: <NA>, Spotify Followers: 0, Popularity: 0, Monthly Listeners: 0, Stubhub: 2\n",
      "Veld Day 1\n",
      "Instagram: 1022, Twitter: 27200, Genre: <NA>, Spotify Followers: 0, Popularity: 0, Monthly Listeners: 0, Stubhub: 2\n",
      "Tylar Hubbard\n",
      "Instagram: 849000, Twitter: 181000, Genre: <NA>, Spotify Followers: 0, Popularity: 0, Monthly Listeners: 0, Stubhub: 68\n",
      "Alley CVT\n",
      "Recaptcha Solvedbe...\n",
      "Instagram: 103000, Twitter: 4931, Genre: <NA>, Spotify Followers: 0, Popularity: 0, Monthly Listeners: 0, Stubhub: 12\n",
      "Jessica Audifred\n",
      "Instagram: 167000, Twitter: 37800, Genre: <NA>, Spotify Followers: 0, Popularity: 0, Monthly Listeners: 0, Stubhub: 2\n",
      "BBNO$\n",
      "Instagram: 2000000, Twitter: 425700, Genre: canadian hip hop, Spotify Followers: 1601891, Popularity: 74, Monthly Listeners: 9500000, Stubhub: 29\n",
      "Ben Bhomer\n",
      "Instagram: 381000, Twitter: 17000, Genre: <NA>, Spotify Followers: 0, Popularity: 0, Monthly Listeners: 0, Stubhub: 54\n"
     ]
    }
   ],
   "source": [
    "# Initialize a list to store the results\n",
    "results2 = []\n",
    "results_df = pd.read_excel(path, sheet_name=\"Socials\")\n",
    "# Iterate through each artist in the sales DataFrame\n",
    "for artist in sales['Artist'].unique():\n",
    "    if artist not in results_df['Artist'].values:\n",
    "        print(artist)\n",
    "        try:\n",
    "            # Get Instagram followers\n",
    "            insta_followers_count = get_insta_followers(artist)\n",
    "\n",
    "            # Get Twitter followers\n",
    "            twitter_followers_count = get_twitter_followers(artist)\n",
    "\n",
    "            # Get Spotify stats\n",
    "            spotify_stats = get_spot_stats(artist)\n",
    "            spotify_followers_count = spotify_stats[\"followers\"]\n",
    "            spotify_popularity_count = spotify_stats[\"popularity\"]\n",
    "            spotify_monthly_listeners_count = spotify_stats[\"listens\"]\n",
    "            genre = spotify_stats[\"genre\"]\n",
    "\n",
    "            # Get Stubhub favourites\n",
    "            stubhub_favourites_count = get_stubhub_favourites(artist)\n",
    "\n",
    "            # Store the results in a dictionary\n",
    "            result = {\n",
    "                'Artist': artist,\n",
    "                'Instagram Followers': insta_followers_count,\n",
    "                'Twitter Followers': twitter_followers_count,\n",
    "                'Spotify Followers': spotify_followers_count,\n",
    "                'Spotify Popularity': spotify_popularity_count,\n",
    "                'Spotify Monthly Listeners': spotify_monthly_listeners_count,\n",
    "                'Genre': genre,\n",
    "                'Stubhub Favourites': stubhub_favourites_count\n",
    "            }\n",
    "            results2.append(result)\n",
    "\n",
    "            print(f\"Instagram: {insta_followers_count}, Twitter: {twitter_followers_count}, Genre: {genre}, Spotify Followers: {spotify_followers_count}, Popularity: {spotify_popularity_count}, Monthly Listeners: {spotify_monthly_listeners_count}, Stubhub: {stubhub_favourites_count}\")\n",
    "\n",
    "        except Exception as e:\n",
    "            print(f\"An error occurred for artist {artist}: {e}\")\n",
    "\n"
   ]
  },
  {
   "cell_type": "code",
   "execution_count": 19,
   "metadata": {},
   "outputs": [],
   "source": [
    "results_df2 = pd.DataFrame(results2)\n"
   ]
  },
  {
   "cell_type": "code",
   "execution_count": 20,
   "metadata": {},
   "outputs": [],
   "source": [
    "results_df = pd.concat([results_df, results_df2])"
   ]
  },
  {
   "cell_type": "code",
   "execution_count": 21,
   "metadata": {},
   "outputs": [],
   "source": [
    "with pd.ExcelWriter(path,  mode='a',  engine=\"openpyxl\", if_sheet_exists=\"replace\") as writer:\n",
    "    results_df.to_excel(writer, sheet_name = \"Socials\", index = False)"
   ]
  }
 ],
 "metadata": {
  "kernelspec": {
   "display_name": "Python 3",
   "language": "python",
   "name": "python3"
  },
  "language_info": {
   "codemirror_mode": {
    "name": "ipython",
    "version": 3
   },
   "file_extension": ".py",
   "mimetype": "text/x-python",
   "name": "python",
   "nbconvert_exporter": "python",
   "pygments_lexer": "ipython3",
   "version": "3.12.5"
  }
 },
 "nbformat": 4,
 "nbformat_minor": 2
}
